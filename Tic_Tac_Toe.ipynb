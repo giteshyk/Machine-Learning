{
  "nbformat": 4,
  "nbformat_minor": 0,
  "metadata": {
    "colab": {
      "name": "Tic_Tac_Toe.ipynb",
      "provenance": [],
      "collapsed_sections": []
    },
    "kernelspec": {
      "name": "python3",
      "display_name": "Python 3"
    }
  },
  "cells": [
    {
      "cell_type": "markdown",
      "metadata": {
        "id": "OVpwYbxGvbth",
        "colab_type": "text"
      },
      "source": [
        "ML Assignment Que 3(192CD009)"
      ]
    },
    {
      "cell_type": "markdown",
      "metadata": {
        "id": "G-g7qoTpvVYy",
        "colab_type": "text"
      },
      "source": [
        "**Tic-Tac-Toe**"
      ]
    },
    {
      "cell_type": "code",
      "metadata": {
        "id": "X-67AkebuFGx",
        "colab_type": "code",
        "colab": {}
      },
      "source": [
        "import numpy as np\n",
        "from math import inf as infinity"
      ],
      "execution_count": 0,
      "outputs": []
    },
    {
      "cell_type": "markdown",
      "metadata": {
        "id": "l5fF6RHyvvfJ",
        "colab_type": "text"
      },
      "source": [
        "Initial Game State:"
      ]
    },
    {
      "cell_type": "code",
      "metadata": {
        "id": "Vb46UTDVvprR",
        "colab_type": "code",
        "colab": {}
      },
      "source": [
        "game_state = [[' ',' ',' '],\n",
        "              [' ',' ',' '],\n",
        "              [' ',' ',' ']]"
      ],
      "execution_count": 0,
      "outputs": []
    },
    {
      "cell_type": "markdown",
      "metadata": {
        "id": "vnpMcz8Kv0kQ",
        "colab_type": "text"
      },
      "source": [
        "Player Tokens"
      ]
    },
    {
      "cell_type": "code",
      "metadata": {
        "id": "AVMdOS_Jvudi",
        "colab_type": "code",
        "colab": {}
      },
      "source": [
        "players = ['X','O']"
      ],
      "execution_count": 0,
      "outputs": []
    },
    {
      "cell_type": "markdown",
      "metadata": {
        "id": "Ipepo1_DwGKa",
        "colab_type": "text"
      },
      "source": [
        "Playing a Move"
      ]
    },
    {
      "cell_type": "code",
      "metadata": {
        "id": "58cS17_Ovz6z",
        "colab_type": "code",
        "colab": {}
      },
      "source": [
        "def play_move(state, player, block_num):\n",
        "    if state[int((block_num-1)/3)][(block_num-1)%3] is ' ':\n",
        "        state[int((block_num-1)/3)][(block_num-1)%3] = player\n",
        "    else:\n",
        "        block_num = int(input(\"Block is not empty, choose another one ! \"))\n",
        "        play_move(state, player, block_num)"
      ],
      "execution_count": 0,
      "outputs": []
    },
    {
      "cell_type": "code",
      "metadata": {
        "id": "RGmr0u10v6OZ",
        "colab_type": "code",
        "colab": {}
      },
      "source": [
        "def copy_game_state(state):\n",
        "    new_state = [[' ',' ',' '],[' ',' ',' '],[' ',' ',' ']]\n",
        "    for i in range(3):\n",
        "        for j in range(3):\n",
        "            new_state[i][j] = state[i][j]\n",
        "    return new_state\n",
        "    "
      ],
      "execution_count": 0,
      "outputs": []
    },
    {
      "cell_type": "markdown",
      "metadata": {
        "id": "1I-X-ffnwRN4",
        "colab_type": "text"
      },
      "source": [
        "Checking State of the Game"
      ]
    },
    {
      "cell_type": "code",
      "metadata": {
        "id": "Usz8CadHwKIg",
        "colab_type": "code",
        "colab": {}
      },
      "source": [
        "def check_current_state(game_state):\n",
        "\n",
        "    # Check if draw\n",
        "    draw_flag = 0\n",
        "    for i in range(3):\n",
        "        for j in range(3):\n",
        "            if game_state[i][j] is ' ':\n",
        "                draw_flag = 1\n",
        "        \n",
        "    if draw_flag is 0:\n",
        "      return None, \"Draw\"\n",
        "    \n",
        "    # Check horizontals\n",
        "    if (game_state[0][0] == game_state[0][1] and game_state[0][1] == game_state[0][2] and game_state[0][0] is not ' '):\n",
        "      return game_state[0][0], \"Done\"\n",
        "    if (game_state[1][0] == game_state[1][1] and game_state[1][1] == game_state[1][2] and game_state[1][0] is not ' '):\n",
        "      return game_state[1][0], \"Done\"\n",
        "    if (game_state[2][0] == game_state[2][1] and game_state[2][1] == game_state[2][2] and game_state[2][0] is not ' '):\n",
        "      return game_state[2][0], \"Done\"\n",
        "    \n",
        "    # Check verticals\n",
        "    if (game_state[0][0] == game_state[1][0] and game_state[1][0] == game_state[2][0] and game_state[0][0] is not ' '):\n",
        "      return game_state[0][0], \"Done\"\n",
        "    if (game_state[0][1] == game_state[1][1] and game_state[1][1] == game_state[2][1] and game_state[0][1] is not ' '):\n",
        "      return game_state[0][1], \"Done\"\n",
        "    if (game_state[0][2] == game_state[1][2] and game_state[1][2] == game_state[2][2] and game_state[0][2] is not ' '):\n",
        "      return game_state[0][2], \"Done\"\n",
        "    \n",
        "    # Check diagonals\n",
        "    if (game_state[0][0] == game_state[1][1] and game_state[1][1] == game_state[2][2] and game_state[0][0] is not ' '):\n",
        "      return game_state[1][1], \"Done\"\n",
        "    if (game_state[2][0] == game_state[1][1] and game_state[1][1] == game_state[0][2] and game_state[2][0] is not ' '):\n",
        "      return game_state[1][1], \"Done\"\n",
        "    \n",
        "    return None, \"Not Done\" "
      ],
      "execution_count": 0,
      "outputs": []
    },
    {
      "cell_type": "markdown",
      "metadata": {
        "id": "UxdBgRBWxAum",
        "colab_type": "text"
      },
      "source": [
        "Print Board !"
      ]
    },
    {
      "cell_type": "code",
      "metadata": {
        "id": "tSaZcdS9wQHh",
        "colab_type": "code",
        "colab": {}
      },
      "source": [
        "def print_board(game_state):\n",
        "    print('----------------')\n",
        "    print('| ' + str(game_state[0][0]) + ' || ' + str(game_state[0][1]) + ' || ' + str(game_state[0][2]) + ' |')\n",
        "    print('----------------')\n",
        "    print('| ' + str(game_state[1][0]) + ' || ' + str(game_state[1][1]) + ' || ' + str(game_state[1][2]) + ' |')\n",
        "    print('----------------')\n",
        "    print('| ' + str(game_state[2][0]) + ' || ' + str(game_state[2][1]) + ' || ' + str(game_state[2][2]) + ' |')\n",
        "    print('----------------')\n",
        "    "
      ],
      "execution_count": 0,
      "outputs": []
    },
    {
      "cell_type": "markdown",
      "metadata": {
        "id": "JGXo8i-ixtpi",
        "colab_type": "text"
      },
      "source": [
        "Minimax Algorithm "
      ]
    },
    {
      "cell_type": "code",
      "metadata": {
        "id": "IAHCBdcpxC5l",
        "colab_type": "code",
        "colab": {
          "base_uri": "https://localhost:8080/",
          "height": 1000
        },
        "outputId": "0ca2517f-55b9-4627-a265-15dc848df2cf"
      },
      "source": [
        "def getBestMove(state, player): \n",
        "    winner_loser , done = check_current_state(state)\n",
        "    if done == \"Done\" and winner_loser == 'O': # If AI won\n",
        "        return 1\n",
        "    elif done == \"Done\" and winner_loser == 'X': # If Human won\n",
        "        return -1\n",
        "    elif done == \"Draw\":    # Draw condition\n",
        "        return 0\n",
        "        \n",
        "    moves = []\n",
        "    empty_cells = []\n",
        "    for i in range(3):\n",
        "        for j in range(3):\n",
        "            if state[i][j] is ' ':\n",
        "                empty_cells.append(i*3 + (j+1))\n",
        "    \n",
        "    for empty_cell in empty_cells:\n",
        "        move = {}\n",
        "        move['index'] = empty_cell\n",
        "        new_state = copy_game_state(state)\n",
        "        play_move(new_state, player, empty_cell)\n",
        "        \n",
        "        if player == 'O':    # If AI\n",
        "            result = getBestMove(new_state, 'X')    # make more depth tree for human\n",
        "            move['score'] = result\n",
        "        else:\n",
        "            result = getBestMove(new_state, 'O')    # make more depth tree for AI\n",
        "            move['score'] = result\n",
        "        \n",
        "        moves.append(move)\n",
        "\n",
        "    # Find best move\n",
        "    best_move = None\n",
        "    if player == 'O':   # If AI player\n",
        "        best = -infinity\n",
        "        for move in moves:\n",
        "            if move['score'] > best:\n",
        "                best = move['score']\n",
        "                best_move = move['index']\n",
        "    else:\n",
        "        best = infinity\n",
        "        for move in moves:\n",
        "            if move['score'] < best:\n",
        "                best = move['score']\n",
        "                best_move = move['index']\n",
        "                \n",
        "    return best_move\n",
        "\n",
        "# PLaying\n",
        "play_again = 'Y'\n",
        "while play_again == 'Y' or play_again == 'y':\n",
        "    game_state = [[' ',' ',' '],\n",
        "              [' ',' ',' '],\n",
        "              [' ',' ',' ']]\n",
        "    current_state = \"Not Done\"\n",
        "    print(\"\\nNew Game!\")\n",
        "    print_board(game_state)\n",
        "    player_choice = input(\"Choose which player goes first - X (You) or O(The AI): \")\n",
        "    winner = None\n",
        "    \n",
        "    if player_choice == 'X' or player_choice == 'x':\n",
        "        current_player_idx = 0\n",
        "    else:\n",
        "        current_player_idx = 1\n",
        "        \n",
        "    while current_state == \"Not Done\":\n",
        "        if current_player_idx == 0: # Human's turn\n",
        "            block_choice = int(input(\"It's your turn! Choose where to place (1 to 9): \"))\n",
        "            play_move(game_state ,players[current_player_idx], block_choice)\n",
        "        else:   # AI's turn\n",
        "            block_choice = getBestMove(game_state, players[current_player_idx])\n",
        "            play_move(game_state ,players[current_player_idx], block_choice)\n",
        "            print(\"AI plays move: \" + str(block_choice))\n",
        "        print_board(game_state)\n",
        "        winner, current_state = check_current_state(game_state)\n",
        "        if winner is not None:\n",
        "            print(str(winner) + \" won!\")\n",
        "        else:\n",
        "            current_player_idx = (current_player_idx + 1)%2\n",
        "        \n",
        "        if current_state is \"Draw\":\n",
        "            print(\"Draw!\")\n",
        "            \n",
        "    play_again = input('Wanna try again?(Y/N) : ')\n",
        "    if play_again == 'N':\n",
        "        print('Game Ends!')"
      ],
      "execution_count": 27,
      "outputs": [
        {
          "output_type": "stream",
          "text": [
            "\n",
            "New Game!\n",
            "----------------\n",
            "|   ||   ||   |\n",
            "----------------\n",
            "|   ||   ||   |\n",
            "----------------\n",
            "|   ||   ||   |\n",
            "----------------\n",
            "Choose which player goes first - X (You) or O(The AI): o\n",
            "AI plays move: 2\n",
            "----------------\n",
            "|   || O ||   |\n",
            "----------------\n",
            "|   ||   ||   |\n",
            "----------------\n",
            "|   ||   ||   |\n",
            "----------------\n",
            "\n",
            "It's your turn! Choose where to place (1 to 9): 5\n",
            "----------------\n",
            "|   || O ||   |\n",
            "----------------\n",
            "|   || X ||   |\n",
            "----------------\n",
            "|   ||   ||   |\n",
            "----------------\n",
            "AI plays move: 3\n",
            "----------------\n",
            "|   || O || O |\n",
            "----------------\n",
            "|   || X ||   |\n",
            "----------------\n",
            "|   ||   ||   |\n",
            "----------------\n",
            "\n",
            "It's your turn! Choose where to place (1 to 9): 1\n",
            "----------------\n",
            "| X || O || O |\n",
            "----------------\n",
            "|   || X ||   |\n",
            "----------------\n",
            "|   ||   ||   |\n",
            "----------------\n",
            "AI plays move: 4\n",
            "----------------\n",
            "| X || O || O |\n",
            "----------------\n",
            "| O || X ||   |\n",
            "----------------\n",
            "|   ||   ||   |\n",
            "----------------\n",
            "\n",
            "It's your turn! Choose where to place (1 to 9): 9\n",
            "----------------\n",
            "| X || O || O |\n",
            "----------------\n",
            "| O || X ||   |\n",
            "----------------\n",
            "|   ||   || X |\n",
            "----------------\n",
            "X won!\n",
            "Wanna try again?(Y/N) : n\n"
          ],
          "name": "stdout"
        }
      ]
    },
    {
      "cell_type": "code",
      "metadata": {
        "id": "afQUl4HpxPuM",
        "colab_type": "code",
        "colab": {}
      },
      "source": [
        ""
      ],
      "execution_count": 0,
      "outputs": []
    }
  ]
}