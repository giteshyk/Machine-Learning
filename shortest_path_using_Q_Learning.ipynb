{
  "nbformat": 4,
  "nbformat_minor": 0,
  "metadata": {
    "colab": {
      "name": "shortest_path_Q_Learning.ipynb",
      "provenance": [],
      "collapsed_sections": []
    },
    "kernelspec": {
      "name": "python3",
      "display_name": "Python 3"
    }
  },
  "cells": [
    {
      "cell_type": "markdown",
      "metadata": {
        "id": "0gvqk_9V4Udo",
        "colab_type": "text"
      },
      "source": [
        "## ML Assignment Que 4 (192CD009)"
      ]
    },
    {
      "cell_type": "markdown",
      "metadata": {
        "id": "pIsWRoyH4vGE",
        "colab_type": "text"
      },
      "source": [
        "Importing Networkx Library to define the graph from the question ."
      ]
    },
    {
      "cell_type": "code",
      "metadata": {
        "id": "r_kVPgO54Drp",
        "colab_type": "code",
        "colab": {}
      },
      "source": [
        "import matplotlib.pyplot as plt\n",
        "import networkx as nx\n",
        "import numpy as np\n",
        "import random\n",
        "\n",
        "%matplotlib inline"
      ],
      "execution_count": 0,
      "outputs": []
    },
    {
      "cell_type": "markdown",
      "metadata": {
        "id": "LnBjLbnG5WGK",
        "colab_type": "text"
      },
      "source": [
        "Graph From the question is :"
      ]
    },
    {
      "cell_type": "code",
      "metadata": {
        "id": "OKZfsLMG4rJa",
        "colab_type": "code",
        "colab": {
          "base_uri": "https://localhost:8080/",
          "height": 248
        },
        "outputId": "2d1858b9-5804-4422-ddf9-97f118a74b1b"
      },
      "source": [
        "edges = [(0,3),(0,4),(1,2),(1,4),(1,5),(2,1),(2,3),(2,5),(2,6),(3,0),(3,2),(4,0),(4,1),(5,1),(5,2),(5,6),(5,7),(6,2),(6,5),(7,5)]\n",
        "G = nx.Graph()\n",
        "G.add_edges_from(edges)\n",
        "pos = nx.spring_layout(G)\n",
        "nx.draw_networkx_nodes(G,pos)\n",
        "nx.draw_networkx_edges(G,pos)\n",
        "nx.draw_networkx_labels(G,pos)\n",
        "plt.show()"
      ],
      "execution_count": 77,
      "outputs": [
        {
          "output_type": "display_data",
          "data": {
            "image/png": "[encoded data removed]",
            "text/plain": [
              "<Figure size 432x288 with 1 Axes>"
            ]
          },
          "metadata": {
            "tags": []
          }
        }
      ]
    },
    {
      "cell_type": "markdown",
      "metadata": {
        "id": "XYaY3o-X8zDE",
        "colab_type": "text"
      },
      "source": [
        "This is the Graph given in the problem statement ."
      ]
    },
    {
      "cell_type": "markdown",
      "metadata": {
        "id": "Wd0EWbGu9PPN",
        "colab_type": "text"
      },
      "source": [
        "...............................................................................................................................................................................................................................................\n"
      ]
    },
    {
      "cell_type": "markdown",
      "metadata": {
        "id": "p4JC8oc-9K_v",
        "colab_type": "text"
      },
      "source": [
        "## **Initializing Reward and Q matrix**"
      ]
    },
    {
      "cell_type": "code",
      "metadata": {
        "id": "4hpBlwhn8uAv",
        "colab_type": "code",
        "colab": {}
      },
      "source": [
        "R = np.matrix(np.zeros(shape =(8,8)))\n",
        "\n",
        "for x in G[7]:\n",
        "  R[x,7]=100"
      ],
      "execution_count": 0,
      "outputs": []
    },
    {
      "cell_type": "code",
      "metadata": {
        "id": "GpstW84M-ZG9",
        "colab_type": "code",
        "colab": {}
      },
      "source": [
        "Q = np.matrix(np.zeros(shape=(8,8)))\n",
        "Q-=100\n",
        "for node in G.nodes:\n",
        "  for x in G[node]:\n",
        "    Q[node,x]=0\n",
        "    Q[x,node]=0"
      ],
      "execution_count": 0,
      "outputs": []
    },
    {
      "cell_type": "markdown",
      "metadata": {
        "id": "YWP-ZW0d-_Bm",
        "colab_type": "text"
      },
      "source": [
        "Lets take a look at the R and Q matrices :"
      ]
    },
    {
      "cell_type": "code",
      "metadata": {
        "id": "lUofl4Gc-w_x",
        "colab_type": "code",
        "colab": {
          "base_uri": "https://localhost:8080/",
          "height": 286
        },
        "outputId": "a5e0d23f-03b0-491b-f15b-4a1f23c24e86"
      },
      "source": [
        "import pandas as pd\n",
        "pd.DataFrame(R) #Reward Matrix"
      ],
      "execution_count": 80,
      "outputs": [
        {
          "output_type": "execute_result",
          "data": {
            "text/html": [
              "<div>\n",
              "<style scoped>\n",
              "    .dataframe tbody tr th:only-of-type {\n",
              "        vertical-align: middle;\n",
              "    }\n",
              "\n",
              "    .dataframe tbody tr th {\n",
              "        vertical-align: top;\n",
              "    }\n",
              "\n",
              "    .dataframe thead th {\n",
              "        text-align: right;\n",
              "    }\n",
              "</style>\n",
              "<table border=\"1\" class=\"dataframe\">\n",
              "  <thead>\n",
              "    <tr style=\"text-align: right;\">\n",
              "      <th></th>\n",
              "      <th>0</th>\n",
              "      <th>1</th>\n",
              "      <th>2</th>\n",
              "      <th>3</th>\n",
              "      <th>4</th>\n",
              "      <th>5</th>\n",
              "      <th>6</th>\n",
              "      <th>7</th>\n",
              "    </tr>\n",
              "  </thead>\n",
              "  <tbody>\n",
              "    <tr>\n",
              "      <th>0</th>\n",
              "      <td>0.0</td>\n",
              "      <td>0.0</td>\n",
              "      <td>0.0</td>\n",
              "      <td>0.0</td>\n",
              "      <td>0.0</td>\n",
              "      <td>0.0</td>\n",
              "      <td>0.0</td>\n",
              "      <td>0.0</td>\n",
              "    </tr>\n",
              "    <tr>\n",
              "      <th>1</th>\n",
              "      <td>0.0</td>\n",
              "      <td>0.0</td>\n",
              "      <td>0.0</td>\n",
              "      <td>0.0</td>\n",
              "      <td>0.0</td>\n",
              "      <td>0.0</td>\n",
              "      <td>0.0</td>\n",
              "      <td>0.0</td>\n",
              "    </tr>\n",
              "    <tr>\n",
              "      <th>2</th>\n",
              "      <td>0.0</td>\n",
              "      <td>0.0</td>\n",
              "      <td>0.0</td>\n",
              "      <td>0.0</td>\n",
              "      <td>0.0</td>\n",
              "      <td>0.0</td>\n",
              "      <td>0.0</td>\n",
              "      <td>0.0</td>\n",
              "    </tr>\n",
              "    <tr>\n",
              "      <th>3</th>\n",
              "      <td>0.0</td>\n",
              "      <td>0.0</td>\n",
              "      <td>0.0</td>\n",
              "      <td>0.0</td>\n",
              "      <td>0.0</td>\n",
              "      <td>0.0</td>\n",
              "      <td>0.0</td>\n",
              "      <td>0.0</td>\n",
              "    </tr>\n",
              "    <tr>\n",
              "      <th>4</th>\n",
              "      <td>0.0</td>\n",
              "      <td>0.0</td>\n",
              "      <td>0.0</td>\n",
              "      <td>0.0</td>\n",
              "      <td>0.0</td>\n",
              "      <td>0.0</td>\n",
              "      <td>0.0</td>\n",
              "      <td>0.0</td>\n",
              "    </tr>\n",
              "    <tr>\n",
              "      <th>5</th>\n",
              "      <td>0.0</td>\n",
              "      <td>0.0</td>\n",
              "      <td>0.0</td>\n",
              "      <td>0.0</td>\n",
              "      <td>0.0</td>\n",
              "      <td>0.0</td>\n",
              "      <td>0.0</td>\n",
              "      <td>100.0</td>\n",
              "    </tr>\n",
              "    <tr>\n",
              "      <th>6</th>\n",
              "      <td>0.0</td>\n",
              "      <td>0.0</td>\n",
              "      <td>0.0</td>\n",
              "      <td>0.0</td>\n",
              "      <td>0.0</td>\n",
              "      <td>0.0</td>\n",
              "      <td>0.0</td>\n",
              "      <td>0.0</td>\n",
              "    </tr>\n",
              "    <tr>\n",
              "      <th>7</th>\n",
              "      <td>0.0</td>\n",
              "      <td>0.0</td>\n",
              "      <td>0.0</td>\n",
              "      <td>0.0</td>\n",
              "      <td>0.0</td>\n",
              "      <td>0.0</td>\n",
              "      <td>0.0</td>\n",
              "      <td>0.0</td>\n",
              "    </tr>\n",
              "  </tbody>\n",
              "</table>\n",
              "</div>"
            ],
            "text/plain": [
              "     0    1    2    3    4    5    6      7\n",
              "0  0.0  0.0  0.0  0.0  0.0  0.0  0.0    0.0\n",
              "1  0.0  0.0  0.0  0.0  0.0  0.0  0.0    0.0\n",
              "2  0.0  0.0  0.0  0.0  0.0  0.0  0.0    0.0\n",
              "3  0.0  0.0  0.0  0.0  0.0  0.0  0.0    0.0\n",
              "4  0.0  0.0  0.0  0.0  0.0  0.0  0.0    0.0\n",
              "5  0.0  0.0  0.0  0.0  0.0  0.0  0.0  100.0\n",
              "6  0.0  0.0  0.0  0.0  0.0  0.0  0.0    0.0\n",
              "7  0.0  0.0  0.0  0.0  0.0  0.0  0.0    0.0"
            ]
          },
          "metadata": {
            "tags": []
          },
          "execution_count": 80
        }
      ]
    },
    {
      "cell_type": "code",
      "metadata": {
        "id": "uH8pO4YD-9Bb",
        "colab_type": "code",
        "colab": {
          "base_uri": "https://localhost:8080/",
          "height": 286
        },
        "outputId": "f639c82a-c490-42aa-c69a-f222fd5d1345"
      },
      "source": [
        "pd.DataFrame(Q) #Q matrix"
      ],
      "execution_count": 81,
      "outputs": [
        {
          "output_type": "execute_result",
          "data": {
            "text/html": [
              "<div>\n",
              "<style scoped>\n",
              "    .dataframe tbody tr th:only-of-type {\n",
              "        vertical-align: middle;\n",
              "    }\n",
              "\n",
              "    .dataframe tbody tr th {\n",
              "        vertical-align: top;\n",
              "    }\n",
              "\n",
              "    .dataframe thead th {\n",
              "        text-align: right;\n",
              "    }\n",
              "</style>\n",
              "<table border=\"1\" class=\"dataframe\">\n",
              "  <thead>\n",
              "    <tr style=\"text-align: right;\">\n",
              "      <th></th>\n",
              "      <th>0</th>\n",
              "      <th>1</th>\n",
              "      <th>2</th>\n",
              "      <th>3</th>\n",
              "      <th>4</th>\n",
              "      <th>5</th>\n",
              "      <th>6</th>\n",
              "      <th>7</th>\n",
              "    </tr>\n",
              "  </thead>\n",
              "  <tbody>\n",
              "    <tr>\n",
              "      <th>0</th>\n",
              "      <td>-100.0</td>\n",
              "      <td>-100.0</td>\n",
              "      <td>-100.0</td>\n",
              "      <td>0.0</td>\n",
              "      <td>0.0</td>\n",
              "      <td>-100.0</td>\n",
              "      <td>-100.0</td>\n",
              "      <td>-100.0</td>\n",
              "    </tr>\n",
              "    <tr>\n",
              "      <th>1</th>\n",
              "      <td>-100.0</td>\n",
              "      <td>-100.0</td>\n",
              "      <td>0.0</td>\n",
              "      <td>-100.0</td>\n",
              "      <td>0.0</td>\n",
              "      <td>0.0</td>\n",
              "      <td>-100.0</td>\n",
              "      <td>-100.0</td>\n",
              "    </tr>\n",
              "    <tr>\n",
              "      <th>2</th>\n",
              "      <td>-100.0</td>\n",
              "      <td>0.0</td>\n",
              "      <td>-100.0</td>\n",
              "      <td>0.0</td>\n",
              "      <td>-100.0</td>\n",
              "      <td>0.0</td>\n",
              "      <td>0.0</td>\n",
              "      <td>-100.0</td>\n",
              "    </tr>\n",
              "    <tr>\n",
              "      <th>3</th>\n",
              "      <td>0.0</td>\n",
              "      <td>-100.0</td>\n",
              "      <td>0.0</td>\n",
              "      <td>-100.0</td>\n",
              "      <td>-100.0</td>\n",
              "      <td>-100.0</td>\n",
              "      <td>-100.0</td>\n",
              "      <td>-100.0</td>\n",
              "    </tr>\n",
              "    <tr>\n",
              "      <th>4</th>\n",
              "      <td>0.0</td>\n",
              "      <td>0.0</td>\n",
              "      <td>-100.0</td>\n",
              "      <td>-100.0</td>\n",
              "      <td>-100.0</td>\n",
              "      <td>-100.0</td>\n",
              "      <td>-100.0</td>\n",
              "      <td>-100.0</td>\n",
              "    </tr>\n",
              "    <tr>\n",
              "      <th>5</th>\n",
              "      <td>-100.0</td>\n",
              "      <td>0.0</td>\n",
              "      <td>0.0</td>\n",
              "      <td>-100.0</td>\n",
              "      <td>-100.0</td>\n",
              "      <td>-100.0</td>\n",
              "      <td>0.0</td>\n",
              "      <td>0.0</td>\n",
              "    </tr>\n",
              "    <tr>\n",
              "      <th>6</th>\n",
              "      <td>-100.0</td>\n",
              "      <td>-100.0</td>\n",
              "      <td>0.0</td>\n",
              "      <td>-100.0</td>\n",
              "      <td>-100.0</td>\n",
              "      <td>0.0</td>\n",
              "      <td>-100.0</td>\n",
              "      <td>-100.0</td>\n",
              "    </tr>\n",
              "    <tr>\n",
              "      <th>7</th>\n",
              "      <td>-100.0</td>\n",
              "      <td>-100.0</td>\n",
              "      <td>-100.0</td>\n",
              "      <td>-100.0</td>\n",
              "      <td>-100.0</td>\n",
              "      <td>0.0</td>\n",
              "      <td>-100.0</td>\n",
              "      <td>-100.0</td>\n",
              "    </tr>\n",
              "  </tbody>\n",
              "</table>\n",
              "</div>"
            ],
            "text/plain": [
              "       0      1      2      3      4      5      6      7\n",
              "0 -100.0 -100.0 -100.0    0.0    0.0 -100.0 -100.0 -100.0\n",
              "1 -100.0 -100.0    0.0 -100.0    0.0    0.0 -100.0 -100.0\n",
              "2 -100.0    0.0 -100.0    0.0 -100.0    0.0    0.0 -100.0\n",
              "3    0.0 -100.0    0.0 -100.0 -100.0 -100.0 -100.0 -100.0\n",
              "4    0.0    0.0 -100.0 -100.0 -100.0 -100.0 -100.0 -100.0\n",
              "5 -100.0    0.0    0.0 -100.0 -100.0 -100.0    0.0    0.0\n",
              "6 -100.0 -100.0    0.0 -100.0 -100.0    0.0 -100.0 -100.0\n",
              "7 -100.0 -100.0 -100.0 -100.0 -100.0    0.0 -100.0 -100.0"
            ]
          },
          "metadata": {
            "tags": []
          },
          "execution_count": 81
        }
      ]
    },
    {
      "cell_type": "markdown",
      "metadata": {
        "id": "Dex2ICku_oCj",
        "colab_type": "text"
      },
      "source": [
        "Function which takes a starting node and returns the next node.It also accepts an exploration rate for random exploration. Otherwise, it chooses action according to the highest Q value of the possible actions."
      ]
    },
    {
      "cell_type": "code",
      "metadata": {
        "id": "lGnj9TkS_Qbb",
        "colab_type": "code",
        "colab": {}
      },
      "source": [
        "def next_number(start,er):\n",
        "  random_value = random.uniform(0,1) #random between 0 and 1\n",
        "  if random_value<er: #if random is below the threshold then it chooses next action randomly\n",
        "    sample=G[start]\n",
        "  else:\n",
        "    sample=np.where(Q[start,] == np.max(Q[start,]))[1]\n",
        "  next_node=int(np.random.choice(sample,1))\n",
        "  return next_node"
      ],
      "execution_count": 0,
      "outputs": []
    },
    {
      "cell_type": "markdown",
      "metadata": {
        "id": "LacpUAwDAvHz",
        "colab_type": "text"
      },
      "source": [
        "Now a function to update Q-value of the action taken:"
      ]
    },
    {
      "cell_type": "code",
      "metadata": {
        "id": "qcxRK4KLAZiL",
        "colab_type": "code",
        "colab": {}
      },
      "source": [
        "def updateQ(node1,node2,lr,discount):\n",
        "  max_index = np.where(Q[node2,] == np.max(Q[node2,]))[1] #finds index of the highest Q-value\n",
        "  if max_index.shape[0] > 1 :\n",
        "    max_index = int(np.random.choice(max_index,size = 1))\n",
        "  else:\n",
        "    max_index = int(max_index)\n",
        "  max_value = Q[node2,max_index]\n",
        "  Q[node1,node2] = int((1-lr)*Q[node1,node2]+lr*(R[node1,node2] + discount*max_value)) #updates the Q-value"
      ],
      "execution_count": 0,
      "outputs": []
    },
    {
      "cell_type": "markdown",
      "metadata": {
        "id": "yEh5lvRlCCto",
        "colab_type": "text"
      },
      "source": [
        "Improving Q-values by starting at random nodes and making 50000 walk :"
      ]
    },
    {
      "cell_type": "code",
      "metadata": {
        "id": "6sUPzkaBB-k0",
        "colab_type": "code",
        "colab": {}
      },
      "source": [
        "def learn(er,lr,discount):\n",
        "  for i in range(50000):\n",
        "    start = np.random.randint(0,7)\n",
        "    next_node=next_number(start,er)\n",
        "    updateQ(start,next_node,lr,discount)\n",
        "\n",
        "learn(0.5,0.8,0.8) #exploration rate,learning rate and discount factor of learning"
      ],
      "execution_count": 0,
      "outputs": []
    },
    {
      "cell_type": "markdown",
      "metadata": {
        "id": "9vPOvumhC97X",
        "colab_type": "text"
      },
      "source": [
        "Let’s check the final Q-values"
      ]
    },
    {
      "cell_type": "code",
      "metadata": {
        "id": "NcHZWnDfC4_n",
        "colab_type": "code",
        "colab": {
          "base_uri": "https://localhost:8080/",
          "height": 286
        },
        "outputId": "8acc6173-f119-424c-dffd-7299ca74f966"
      },
      "source": [
        "pd.DataFrame(Q)"
      ],
      "execution_count": 85,
      "outputs": [
        {
          "output_type": "execute_result",
          "data": {
            "text/html": [
              "<div>\n",
              "<style scoped>\n",
              "    .dataframe tbody tr th:only-of-type {\n",
              "        vertical-align: middle;\n",
              "    }\n",
              "\n",
              "    .dataframe tbody tr th {\n",
              "        vertical-align: top;\n",
              "    }\n",
              "\n",
              "    .dataframe thead th {\n",
              "        text-align: right;\n",
              "    }\n",
              "</style>\n",
              "<table border=\"1\" class=\"dataframe\">\n",
              "  <thead>\n",
              "    <tr style=\"text-align: right;\">\n",
              "      <th></th>\n",
              "      <th>0</th>\n",
              "      <th>1</th>\n",
              "      <th>2</th>\n",
              "      <th>3</th>\n",
              "      <th>4</th>\n",
              "      <th>5</th>\n",
              "      <th>6</th>\n",
              "      <th>7</th>\n",
              "    </tr>\n",
              "  </thead>\n",
              "  <tbody>\n",
              "    <tr>\n",
              "      <th>0</th>\n",
              "      <td>-100.0</td>\n",
              "      <td>-100.0</td>\n",
              "      <td>-100.0</td>\n",
              "      <td>49.0</td>\n",
              "      <td>49.0</td>\n",
              "      <td>-100.0</td>\n",
              "      <td>-100.0</td>\n",
              "      <td>-100.0</td>\n",
              "    </tr>\n",
              "    <tr>\n",
              "      <th>1</th>\n",
              "      <td>-100.0</td>\n",
              "      <td>-100.0</td>\n",
              "      <td>62.0</td>\n",
              "      <td>-100.0</td>\n",
              "      <td>49.0</td>\n",
              "      <td>78.0</td>\n",
              "      <td>-100.0</td>\n",
              "      <td>-100.0</td>\n",
              "    </tr>\n",
              "    <tr>\n",
              "      <th>2</th>\n",
              "      <td>-100.0</td>\n",
              "      <td>62.0</td>\n",
              "      <td>-100.0</td>\n",
              "      <td>49.0</td>\n",
              "      <td>-100.0</td>\n",
              "      <td>78.0</td>\n",
              "      <td>62.0</td>\n",
              "      <td>-100.0</td>\n",
              "    </tr>\n",
              "    <tr>\n",
              "      <th>3</th>\n",
              "      <td>38.0</td>\n",
              "      <td>-100.0</td>\n",
              "      <td>62.0</td>\n",
              "      <td>-100.0</td>\n",
              "      <td>-100.0</td>\n",
              "      <td>-100.0</td>\n",
              "      <td>-100.0</td>\n",
              "      <td>-100.0</td>\n",
              "    </tr>\n",
              "    <tr>\n",
              "      <th>4</th>\n",
              "      <td>38.0</td>\n",
              "      <td>62.0</td>\n",
              "      <td>-100.0</td>\n",
              "      <td>-100.0</td>\n",
              "      <td>-100.0</td>\n",
              "      <td>-100.0</td>\n",
              "      <td>-100.0</td>\n",
              "      <td>-100.0</td>\n",
              "    </tr>\n",
              "    <tr>\n",
              "      <th>5</th>\n",
              "      <td>-100.0</td>\n",
              "      <td>62.0</td>\n",
              "      <td>62.0</td>\n",
              "      <td>-100.0</td>\n",
              "      <td>-100.0</td>\n",
              "      <td>-100.0</td>\n",
              "      <td>62.0</td>\n",
              "      <td>99.0</td>\n",
              "    </tr>\n",
              "    <tr>\n",
              "      <th>6</th>\n",
              "      <td>-100.0</td>\n",
              "      <td>-100.0</td>\n",
              "      <td>62.0</td>\n",
              "      <td>-100.0</td>\n",
              "      <td>-100.0</td>\n",
              "      <td>78.0</td>\n",
              "      <td>-100.0</td>\n",
              "      <td>-100.0</td>\n",
              "    </tr>\n",
              "    <tr>\n",
              "      <th>7</th>\n",
              "      <td>-100.0</td>\n",
              "      <td>-100.0</td>\n",
              "      <td>-100.0</td>\n",
              "      <td>-100.0</td>\n",
              "      <td>-100.0</td>\n",
              "      <td>0.0</td>\n",
              "      <td>-100.0</td>\n",
              "      <td>-100.0</td>\n",
              "    </tr>\n",
              "  </tbody>\n",
              "</table>\n",
              "</div>"
            ],
            "text/plain": [
              "       0      1      2      3      4      5      6      7\n",
              "0 -100.0 -100.0 -100.0   49.0   49.0 -100.0 -100.0 -100.0\n",
              "1 -100.0 -100.0   62.0 -100.0   49.0   78.0 -100.0 -100.0\n",
              "2 -100.0   62.0 -100.0   49.0 -100.0   78.0   62.0 -100.0\n",
              "3   38.0 -100.0   62.0 -100.0 -100.0 -100.0 -100.0 -100.0\n",
              "4   38.0   62.0 -100.0 -100.0 -100.0 -100.0 -100.0 -100.0\n",
              "5 -100.0   62.0   62.0 -100.0 -100.0 -100.0   62.0   99.0\n",
              "6 -100.0 -100.0   62.0 -100.0 -100.0   78.0 -100.0 -100.0\n",
              "7 -100.0 -100.0 -100.0 -100.0 -100.0    0.0 -100.0 -100.0"
            ]
          },
          "metadata": {
            "tags": []
          },
          "execution_count": 85
        }
      ]
    },
    {
      "cell_type": "markdown",
      "metadata": {
        "id": "zbTOd9uGDI4g",
        "colab_type": "text"
      },
      "source": [
        "Now we can find shortest path between two nodes, by choosing highest Q-value from Q matrix when deciding an action:"
      ]
    },
    {
      "cell_type": "code",
      "metadata": {
        "id": "VRDjQIRIDBW4",
        "colab_type": "code",
        "colab": {}
      },
      "source": [
        "def shortest_path(begin,end):\n",
        "  path=[begin]\n",
        "  next_node=np.argmax(Q[begin,])\n",
        "  path.append(next_node)\n",
        "  while next_node != end:\n",
        "    next_node = np.argmax(Q[next_node,])\n",
        "    path.append(next_node)\n",
        "  return path"
      ],
      "execution_count": 0,
      "outputs": []
    },
    {
      "cell_type": "markdown",
      "metadata": {
        "id": "g8GJxJsdDv9j",
        "colab_type": "text"
      },
      "source": [
        "The Shortest Path between 0 and 5 is :"
      ]
    },
    {
      "cell_type": "code",
      "metadata": {
        "id": "vCHzwmYGGoUP",
        "colab_type": "code",
        "colab": {}
      },
      "source": [
        "Answer = shortest_path(0,5) "
      ],
      "execution_count": 0,
      "outputs": []
    },
    {
      "cell_type": "code",
      "metadata": {
        "id": "nf9oppMzDiCE",
        "colab_type": "code",
        "colab": {
          "base_uri": "https://localhost:8080/",
          "height": 33
        },
        "outputId": "cebb054d-5d11-470f-dcce-f5baa941e2dd"
      },
      "source": [
        "print('So the shortest path is ' + str(Answer))"
      ],
      "execution_count": 88,
      "outputs": [
        {
          "output_type": "stream",
          "text": [
            "So the shortest path is [0, 3, 2, 5]\n"
          ],
          "name": "stdout"
        }
      ]
    },
    {
      "cell_type": "code",
      "metadata": {
        "id": "wK05VVJjG1z_",
        "colab_type": "code",
        "colab": {}
      },
      "source": [
        ""
      ],
      "execution_count": 0,
      "outputs": []
    }
  ]
}