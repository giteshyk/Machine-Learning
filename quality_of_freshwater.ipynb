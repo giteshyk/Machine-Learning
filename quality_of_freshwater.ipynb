{
 "cells": [
  {
   "cell_type": "code",
   "execution_count": 1,
   "id": "d13d1380",
   "metadata": {},
   "outputs": [],
   "source": [
    "import pandas as pd\n",
    "import numpy as np\n",
    "from sklearn import tree\n",
    "from sklearn.model_selection import train_test_split\n",
    "from sklearn.metrics import accuracy_score\n",
    "from sklearn.preprocessing import LabelEncoder"
   ]
  },
  {
   "cell_type": "code",
   "execution_count": 2,
   "id": "db751dcc",
   "metadata": {},
   "outputs": [
    {
     "data": {
      "text/plain": [
       "'\\nTo-Dos:\\n\\ni. Apply feature scaling\\nii. Apply dimentionality reduction\\niii. Test with predicted values in training data\\niv. Evaluate against other supervised learning algorithms\\n'"
      ]
     },
     "execution_count": 2,
     "metadata": {},
     "output_type": "execute_result"
    }
   ],
   "source": [
    "\"\"\"\n",
    "To-Dos:\n",
    "\n",
    "i. Apply feature scaling\n",
    "ii. Apply dimentionality reduction\n",
    "iii. Test with predicted values in training data\n",
    "iv. Evaluate against other supervised learning algorithms\n",
    "\"\"\"  "
   ]
  },
  {
   "cell_type": "code",
   "execution_count": 3,
   "id": "54e867c9",
   "metadata": {},
   "outputs": [],
   "source": [
    "# Load the data from the CSV file\n",
    "data = pd.read_csv('D:\\Learnings\\datasets\\dataset.csv')"
   ]
  },
  {
   "cell_type": "code",
   "execution_count": 4,
   "id": "0fa0e1aa",
   "metadata": {},
   "outputs": [],
   "source": [
    "# lets drop the rows with empty cells, later we will instead use predicted values\n",
    "\n",
    "data.replace('', np.nan, inplace=True)\n",
    "data.dropna(inplace=True)"
   ]
  },
  {
   "cell_type": "code",
   "execution_count": 5,
   "id": "ba049457",
   "metadata": {},
   "outputs": [],
   "source": [
    "# Load the data and prepare the features and labels\n",
    "#X = data.drop(['Target'], axis=1)\n",
    "X = data[['pH', 'Iron', 'Nitrate', 'Chloride', 'Lead', 'Zinc', 'Color',\n",
    "          'Turbidity', 'Fluoride', 'Copper', 'Odor', 'Sulfate', 'Conductivity',\n",
    "          'Chlorine', 'Manganese', 'Total Dissolved Solids', 'Source',\n",
    "          'Water Temperature', 'Air Temperature', 'Month', 'Day', 'Time of Day']]\n",
    "y = data['Target']"
   ]
  },
  {
   "cell_type": "code",
   "execution_count": 6,
   "id": "81b9b204",
   "metadata": {},
   "outputs": [
    {
     "name": "stdout",
     "output_type": "stream",
     "text": [
      "['Color', 'Source', 'Month']\n"
     ]
    }
   ],
   "source": [
    "# these columns have strings, encode them\n",
    "\n",
    "string_columns = data.select_dtypes(include=['object']).columns.tolist()\n",
    "\n",
    "# Print the names of the string columns\n",
    "print(string_columns)"
   ]
  },
  {
   "cell_type": "code",
   "execution_count": 7,
   "id": "c840feab",
   "metadata": {},
   "outputs": [
    {
     "name": "stderr",
     "output_type": "stream",
     "text": [
      "C:\\Users\\gites\\AppData\\Local\\Temp\\ipykernel_12928\\275804703.py:4: SettingWithCopyWarning: \n",
      "A value is trying to be set on a copy of a slice from a DataFrame.\n",
      "Try using .loc[row_indexer,col_indexer] = value instead\n",
      "\n",
      "See the caveats in the documentation: https://pandas.pydata.org/pandas-docs/stable/user_guide/indexing.html#returning-a-view-versus-a-copy\n",
      "  X.loc[:,string_columns] = X[string_columns].apply(lambda col: le.fit_transform(col))\n"
     ]
    }
   ],
   "source": [
    "#clean the data here\n",
    "le = LabelEncoder()\n",
    "#string_columns = ['Source', 'Month', 'Color']\n",
    "X.loc[:,string_columns] = X[string_columns].apply(lambda col: le.fit_transform(col))"
   ]
  },
  {
   "cell_type": "code",
   "execution_count": 9,
   "id": "da0774e0",
   "metadata": {},
   "outputs": [
    {
     "name": "stdout",
     "output_type": "stream",
     "text": [
      "Accuracy: 0.8358380631875031\n"
     ]
    }
   ],
   "source": [
    "\n",
    "# Split the data into training and test sets\n",
    "X_train, X_test, y_train, y_test = train_test_split(X, y, test_size=0.2, random_state=42)\n",
    "\n",
    "# Train the decision tree on the training data\n",
    "clf = tree.DecisionTreeClassifier(criterion='gini',max_depth=4,random_state=1)\n",
    "clf.fit(X_train, y_train)\n",
    "\n",
    "# Make predictions on the test data\n",
    "y_pred = clf.predict(X_test)\n",
    "\n",
    "# Evaluate the performance of the model\n",
    "accuracy = accuracy_score(y_test, y_pred)\n",
    "print('Accuracy:', accuracy)\n"
   ]
  },
  {
   "cell_type": "code",
   "execution_count": 15,
   "id": "b5487ec5",
   "metadata": {},
   "outputs": [],
   "source": [
    "#list(X.columns)"
   ]
  },
  {
   "cell_type": "code",
   "execution_count": 17,
   "id": "cbef351e",
   "metadata": {},
   "outputs": [
    {
     "data": {
      "text/plain": [
       "[Text(0.5, 0.9, 'Manganese <= 0.05\\ngini = 0.423\\nsamples = 3185440\\nvalue = [2219383, 966057]'),\n",
       " Text(0.25, 0.7, 'Turbidity <= 1.089\\ngini = 0.357\\nsamples = 2734607\\nvalue = [2097440, 637167]'),\n",
       " Text(0.125, 0.5, 'Chloride <= 250.701\\ngini = 0.306\\nsamples = 2507257\\nvalue = [2035354, 471903]'),\n",
       " Text(0.0625, 0.3, 'Copper <= 1.051\\ngini = 0.254\\nsamples = 2339528\\nvalue = [1989719, 349809]'),\n",
       " Text(0.03125, 0.1, 'gini = 0.209\\nsamples = 2220147\\nvalue = [1957354, 262793]'),\n",
       " Text(0.09375, 0.1, 'gini = 0.395\\nsamples = 119381\\nvalue = [32365, 87016]'),\n",
       " Text(0.1875, 0.3, 'Air Temperature <= 70.615\\ngini = 0.396\\nsamples = 167729\\nvalue = [45635, 122094]'),\n",
       " Text(0.15625, 0.1, 'gini = 0.398\\nsamples = 121008\\nvalue = [33218, 87790]'),\n",
       " Text(0.21875, 0.1, 'gini = 0.39\\nsamples = 46721\\nvalue = [12417, 34304]'),\n",
       " Text(0.375, 0.5, 'Iron <= 1.164\\ngini = 0.397\\nsamples = 227350\\nvalue = [62086, 165264]'),\n",
       " Text(0.3125, 0.3, 'Chlorine <= 6.735\\ngini = 0.396\\nsamples = 212747\\nvalue = [57909, 154838]'),\n",
       " Text(0.28125, 0.1, 'gini = 0.396\\nsamples = 212246\\nvalue = [57805, 154441]'),\n",
       " Text(0.34375, 0.1, 'gini = 0.329\\nsamples = 501\\nvalue = [104, 397]'),\n",
       " Text(0.4375, 0.3, 'Day <= 12.5\\ngini = 0.408\\nsamples = 14603\\nvalue = [4177, 10426]'),\n",
       " Text(0.40625, 0.1, 'gini = 0.394\\nsamples = 5641\\nvalue = [1519, 4122]'),\n",
       " Text(0.46875, 0.1, 'gini = 0.417\\nsamples = 8962\\nvalue = [2658, 6304]'),\n",
       " Text(0.75, 0.7, 'Fluoride <= 1.576\\ngini = 0.395\\nsamples = 450833\\nvalue = [121943, 328890]'),\n",
       " Text(0.625, 0.5, 'Turbidity <= 0.014\\ngini = 0.393\\nsamples = 331056\\nvalue = [89035, 242021]'),\n",
       " Text(0.5625, 0.3, 'Sulfate <= 97.222\\ngini = 0.386\\nsamples = 44769\\nvalue = [11716, 33053]'),\n",
       " Text(0.53125, 0.1, 'gini = 0.369\\nsamples = 10263\\nvalue = [2507, 7756]'),\n",
       " Text(0.59375, 0.1, 'gini = 0.391\\nsamples = 34506\\nvalue = [9209, 25297]'),\n",
       " Text(0.6875, 0.3, 'Manganese <= 11.652\\ngini = 0.394\\nsamples = 286287\\nvalue = [77319, 208968]'),\n",
       " Text(0.65625, 0.1, 'gini = 0.394\\nsamples = 286212\\nvalue = [77284, 208928]'),\n",
       " Text(0.71875, 0.1, 'gini = 0.498\\nsamples = 75\\nvalue = [35, 40]'),\n",
       " Text(0.875, 0.5, 'Air Temperature <= -5.632\\ngini = 0.399\\nsamples = 119777\\nvalue = [32908, 86869]'),\n",
       " Text(0.8125, 0.3, 'Total Dissolved Solids <= 476.081\\ngini = 0.391\\nsamples = 15\\nvalue = [11, 4]'),\n",
       " Text(0.78125, 0.1, 'gini = 0.26\\nsamples = 13\\nvalue = [11, 2]'),\n",
       " Text(0.84375, 0.1, 'gini = 0.0\\nsamples = 2\\nvalue = [0, 2]'),\n",
       " Text(0.9375, 0.3, 'Air Temperature <= 6.195\\ngini = 0.398\\nsamples = 119762\\nvalue = [32897, 86865]'),\n",
       " Text(0.90625, 0.1, 'gini = 0.279\\nsamples = 167\\nvalue = [28, 139]'),\n",
       " Text(0.96875, 0.1, 'gini = 0.399\\nsamples = 119595\\nvalue = [32869, 86726]')]"
      ]
     },
     "execution_count": 17,
     "metadata": {},
     "output_type": "execute_result"
    },
    {
     "data": {
      "image/png": "[encoded data removed]",
      "text/plain": [
       "<Figure size 432x288 with 1 Axes>"
      ]
     },
     "metadata": {
      "needs_background": "light"
     },
     "output_type": "display_data"
    }
   ],
   "source": [
    "tree.plot_tree(clf,feature_names= list(X.columns),filled = True)"
   ]
  },
  {
   "cell_type": "code",
   "execution_count": 10,
   "id": "17d09f40",
   "metadata": {},
   "outputs": [
    {
     "data": {
      "text/plain": [
       "'\\ndocument: \\n1. Using DecisionTreeClassifier,\\n     training on 80% data, test on 20%, removed rows with empty cells\\n         accuracy: 83.15%\\n         \\n'"
      ]
     },
     "execution_count": 10,
     "metadata": {},
     "output_type": "execute_result"
    }
   ],
   "source": [
    "\"\"\"\n",
    "document: \n",
    "1. Using DecisionTreeClassifier,\n",
    "     training on 80% data, test on 20%, removed rows with empty cells\n",
    "         accuracy: 83.15%\n",
    "         \n",
    "    We will try and test with these decision-tree parameters:\n",
    "        criterion='gini',max_depth=4,random_state=1\n",
    "        accuracy: 83.58%\n",
    "         \n",
    "\"\"\" "
   ]
  }
 ],
 "metadata": {
  "kernelspec": {
   "display_name": "Python 3 (ipykernel)",
   "language": "python",
   "name": "python3"
  },
  "language_info": {
   "codemirror_mode": {
    "name": "ipython",
    "version": 3
   },
   "file_extension": ".py",
   "mimetype": "text/x-python",
   "name": "python",
   "nbconvert_exporter": "python",
   "pygments_lexer": "ipython3",
   "version": "3.9.12"
  }
 },
 "nbformat": 4,
 "nbformat_minor": 5
}
