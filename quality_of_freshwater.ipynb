{
 "cells": [
  {
   "cell_type": "code",
   "execution_count": 64,
   "id": "d13d1380",
   "metadata": {},
   "outputs": [],
   "source": [
    "import pandas as pd\n",
    "import numpy as np\n",
    "from sklearn import tree\n",
    "from sklearn.model_selection import train_test_split\n",
    "from sklearn.metrics import accuracy_score\n",
    "from sklearn.preprocessing import LabelEncoder\n",
    "from sklearn.ensemble import RandomForestClassifier\n",
    "from sklearn.neighbors import KNeighborsClassifier\n",
    "from sklearn.preprocessing import StandardScaler"
   ]
  },
  {
   "cell_type": "code",
   "execution_count": 65,
   "id": "db751dcc",
   "metadata": {},
   "outputs": [
    {
     "data": {
      "text/plain": [
       "'\\nTo-Dos:\\ni. Apply feature scaling (standardizaed values)\\nii. Apply dimentionality reduction \\niii. Test with predicted values in training data (fillna(df.mean()))\\niv. Evaluate against other supervised learning algorithms (WIP)\\n'"
      ]
     },
     "execution_count": 65,
     "metadata": {},
     "output_type": "execute_result"
    }
   ],
   "source": [
    "\"\"\"\n",
    "To-Dos:\n",
    "i. Apply feature scaling (standardizaed values)\n",
    "ii. Apply dimentionality reduction \n",
    "iii. Test with predicted values in training data (fillna(df.mean()))\n",
    "iv. Evaluate against other supervised learning algorithms (WIP)\n",
    "\"\"\"  "
   ]
  },
  {
   "cell_type": "code",
   "execution_count": 66,
   "id": "54e867c9",
   "metadata": {},
   "outputs": [],
   "source": [
    "# Load the data from the CSV file\n",
    "data = pd.read_csv('D:\\Learnings\\datasets\\dataset.csv')"
   ]
  },
  {
   "cell_type": "code",
   "execution_count": 67,
   "id": "0fa0e1aa",
   "metadata": {},
   "outputs": [],
   "source": [
    "# lets drop the rows with empty cells, later we will instead use predicted values\n",
    "data.replace('', np.nan, inplace=True)\n",
    "data.dropna(inplace=True)\n",
    "#data.fillna(data.mean())"
   ]
  },
  {
   "cell_type": "code",
   "execution_count": 68,
   "id": "ba049457",
   "metadata": {},
   "outputs": [],
   "source": [
    "# Load the data and prepare the features and labels\n",
    "#X = data.drop(['Target'], axis=1)\n",
    "X = data[['pH', 'Iron', 'Nitrate', 'Chloride', 'Lead', 'Zinc', 'Color',\n",
    "          'Turbidity', 'Fluoride', 'Copper', 'Odor', 'Sulfate', 'Conductivity',\n",
    "          'Chlorine', 'Manganese', 'Total Dissolved Solids', 'Source',\n",
    "          'Water Temperature', 'Air Temperature', 'Month', 'Day', 'Time of Day']]\n",
    "y = data['Target']"
   ]
  },
  {
   "cell_type": "code",
   "execution_count": 69,
   "id": "81b9b204",
   "metadata": {},
   "outputs": [
    {
     "name": "stdout",
     "output_type": "stream",
     "text": [
      "['Color', 'Source', 'Month']\n"
     ]
    }
   ],
   "source": [
    "# these columns have strings, encode them\n",
    "string_columns = data.select_dtypes(include=['object']).columns.tolist()\n",
    "# Print the names of the string columns\n",
    "print(string_columns)"
   ]
  },
  {
   "cell_type": "code",
   "execution_count": 70,
   "id": "c840feab",
   "metadata": {},
   "outputs": [
    {
     "name": "stderr",
     "output_type": "stream",
     "text": [
      "C:\\Users\\gites\\AppData\\Local\\Temp\\ipykernel_12644\\275804703.py:4: SettingWithCopyWarning: \n",
      "A value is trying to be set on a copy of a slice from a DataFrame.\n",
      "Try using .loc[row_indexer,col_indexer] = value instead\n",
      "\n",
      "See the caveats in the documentation: https://pandas.pydata.org/pandas-docs/stable/user_guide/indexing.html#returning-a-view-versus-a-copy\n",
      "  X.loc[:,string_columns] = X[string_columns].apply(lambda col: le.fit_transform(col))\n"
     ]
    }
   ],
   "source": [
    "#clean the data here\n",
    "le = LabelEncoder()\n",
    "#string_columns = ['Source', 'Month', 'Color']\n",
    "X.loc[:,string_columns] = X[string_columns].apply(lambda col: le.fit_transform(col))"
   ]
  },
  {
   "cell_type": "markdown",
   "id": "86c31981",
   "metadata": {},
   "source": [
    "Imputing missing values (instead of dropping we fill them with mean)"
   ]
  },
  {
   "cell_type": "code",
   "execution_count": 71,
   "id": "0a6297dd",
   "metadata": {},
   "outputs": [],
   "source": [
    "#X.fillna(X.mean())\n",
    "#X.dropna(inplace=True)"
   ]
  },
  {
   "cell_type": "code",
   "execution_count": 72,
   "id": "16c1b9ba",
   "metadata": {},
   "outputs": [],
   "source": [
    "# Split the data into training and test sets\n",
    "X_train, X_test, y_train, y_test = train_test_split(X, y, test_size=0.05, random_state=42)"
   ]
  },
  {
   "cell_type": "markdown",
   "id": "270cf91c",
   "metadata": {},
   "source": [
    "Feature Scaling by Standardizing the values"
   ]
  },
  {
   "cell_type": "code",
   "execution_count": 73,
   "id": "8c51e817",
   "metadata": {},
   "outputs": [],
   "source": [
    "stdsc = StandardScaler()"
   ]
  },
  {
   "cell_type": "code",
   "execution_count": 74,
   "id": "1f8e135a",
   "metadata": {},
   "outputs": [],
   "source": [
    "X_train_std = stdsc.fit_transform(X_train)\n",
    "X_test_std = stdsc.transform(X_test)"
   ]
  },
  {
   "cell_type": "markdown",
   "id": "2dccea27",
   "metadata": {},
   "source": [
    "Decision Trees:"
   ]
  },
  {
   "cell_type": "code",
   "execution_count": 75,
   "id": "da0774e0",
   "metadata": {},
   "outputs": [
    {
     "name": "stdout",
     "output_type": "stream",
     "text": [
      "Accuracy with Decision trees: 0.8365161484755638\n"
     ]
    }
   ],
   "source": [
    "# Train the decision tree on the training data\n",
    "tree_model = tree.DecisionTreeClassifier(criterion='gini',max_depth=4,random_state=1)\n",
    "tree_model.fit(X_train_std, y_train)\n",
    "\n",
    "# Make predictions on the test data\n",
    "y_pred = tree_model.predict(X_test_std)\n",
    "\n",
    "# Evaluate the performance of the model\n",
    "accuracy = accuracy_score(y_test, y_pred)\n",
    "print('Accuracy with Decision trees:', accuracy)"
   ]
  },
  {
   "cell_type": "code",
   "execution_count": 76,
   "id": "3f1d4579",
   "metadata": {},
   "outputs": [],
   "source": [
    "#list(X.columns)"
   ]
  },
  {
   "cell_type": "code",
   "execution_count": 77,
   "id": "9d58a404",
   "metadata": {},
   "outputs": [
    {
     "data": {
      "image/png": "[encoded data removed]",
      "text/plain": [
       "<Figure size 432x288 with 1 Axes>"
      ]
     },
     "metadata": {
      "needs_background": "light"
     },
     "output_type": "display_data"
    }
   ],
   "source": [
    "decision_tree_fig = tree.plot_tree(tree_model,feature_names= list(X.columns),filled = True)"
   ]
  },
  {
   "cell_type": "markdown",
   "id": "84bda58a",
   "metadata": {},
   "source": [
    "Random Forest:"
   ]
  },
  {
   "cell_type": "code",
   "execution_count": 78,
   "id": "2062d118",
   "metadata": {},
   "outputs": [
    {
     "name": "stdout",
     "output_type": "stream",
     "text": [
      "Accuracy with random forest: 0.8864734542166859\n"
     ]
    }
   ],
   "source": [
    "# Train the random forest classifier on the training data\n",
    "forest = RandomForestClassifier(n_estimators=25,random_state=1,n_jobs=2)\n",
    "forest.fit(X_train_std,y_train)\n",
    "\n",
    "# Make predictions on the test data\n",
    "rfc_y_pred = forest.predict(X_test_std)\n",
    "\n",
    "# Evaluate the performance of the model\n",
    "accuracy = accuracy_score(y_test, rfc_y_pred)\n",
    "print('Accuracy with random forest:', accuracy)"
   ]
  },
  {
   "cell_type": "markdown",
   "id": "29547e53",
   "metadata": {},
   "source": [
    "KNN:"
   ]
  },
  {
   "cell_type": "code",
   "execution_count": 60,
   "id": "94ebf9ff",
   "metadata": {},
   "outputs": [
    {
     "name": "stdout",
     "output_type": "stream",
     "text": [
      "Accuracy with KNN: 0.8097054096137425\n"
     ]
    }
   ],
   "source": [
    "knn = KNeighborsClassifier(n_neighbors=5,p=2,metric='minkowski')\n",
    "knn.fit(X_train_std, y_train)\n",
    "\n",
    "knn_y_pred = knn.predict(X_test_std)\n",
    "\n",
    "accuracy = accuracy_score(y_test,knn_y_pred)\n",
    "print('Accuracy with KNN:',accuracy)"
   ]
  },
  {
   "cell_type": "code",
   "execution_count": 62,
   "id": "17d09f40",
   "metadata": {},
   "outputs": [
    {
     "data": {
      "text/plain": [
       "\"\\ndocument: \\n1. Using DecisionTreeClassifier,\\n    Training on 80% data, test on 20%, removed rows with empty cells\\n         accuracy: 83.15%\\n          \\n         \\n    We will try and test with these decision-tree parameters:\\n        criterion='gini',max_depth=4,random_state=1\\n        accuracy: 83.58%\\n        after standardization: 83.58%\\n        fillna(df.mean()) instead of dropna:\\n        \\n        \\n2. Using RandomForestClassifier,\\n    Training on 80% data, test on 20%, removed rows with empty cells\\n        accuracy: 88.50%\\n        after standardization: 88.50%\\n        fillna(df.mean()) instead of dropna:\\n        \\n3. Using KNN,\\n    Training on 80% data, test on 20%, removed rows with empty cells\\n        accuracy: 74.33%\\n        after standardization: 80.97%\\n        fillna(df.mean()) instead of dropna:\\n         \\n\""
      ]
     },
     "execution_count": 62,
     "metadata": {},
     "output_type": "execute_result"
    }
   ],
   "source": [
    "\"\"\"\n",
    "document: \n",
    "1. Using DecisionTreeClassifier,\n",
    "    i. Training on 80% data, test on 20%, removed rows with empty cells\n",
    "        accuracy: 83.15%\n",
    "          \n",
    "         \n",
    "    ii. We will try and test with these decision-tree parameters:\n",
    "        criterion='gini',max_depth=4,random_state=1\n",
    "        accuracy: 83.58%\n",
    "        after standardization: 83.58%\n",
    "        fillna(df.mean()) instead of dropna:\n",
    "        \n",
    "    iii. Training on 95% data, test on 5%, removed rows with empty cells\n",
    "         accuracy: 83.65%\n",
    "        \n",
    "        \n",
    "2. Using RandomForestClassifier,\n",
    "    i. Training on 80% data, test on 20%, removed rows with empty cells\n",
    "        accuracy: 88.50%\n",
    "        after standardization: 88.50%\n",
    "        fillna(df.mean()) instead of dropna:\n",
    "        \n",
    "    ii. Training on 95% data, test on 5%, removed rows with empty cells\n",
    "         accuracy: 88.64%\n",
    "        \n",
    "3. Using KNN,\n",
    "    i. Training on 80% data, test on 20%, removed rows with empty cells\n",
    "        accuracy: 74.33%\n",
    "        after standardization: 80.97%\n",
    "        fillna(df.mean()) instead of dropna:\n",
    "        \n",
    "    ii. Training on 95% data, test on 5%, removed rows with empty cells\n",
    "        accuracy:\n",
    "        \n",
    "    \n",
    "         \n",
    "\"\"\" "
   ]
  },
  {
   "cell_type": "code",
   "execution_count": null,
   "id": "540a0b5a",
   "metadata": {},
   "outputs": [],
   "source": []
  }
 ],
 "metadata": {
  "kernelspec": {
   "display_name": "Python 3 (ipykernel)",
   "language": "python",
   "name": "python3"
  },
  "language_info": {
   "codemirror_mode": {
    "name": "ipython",
    "version": 3
   },
   "file_extension": ".py",
   "mimetype": "text/x-python",
   "name": "python",
   "nbconvert_exporter": "python",
   "pygments_lexer": "ipython3",
   "version": "3.9.12"
  }
 },
 "nbformat": 4,
 "nbformat_minor": 5
}
