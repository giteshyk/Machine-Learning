{
 "cells": [
  {
   "cell_type": "code",
   "execution_count": 11,
   "id": "d13d1380",
   "metadata": {},
   "outputs": [],
   "source": [
    "import pandas as pd\n",
    "import numpy as np\n",
    "from sklearn import tree\n",
    "from sklearn.model_selection import train_test_split\n",
    "from sklearn.metrics import accuracy_score\n",
    "from sklearn.preprocessing import LabelEncoder"
   ]
  },
  {
   "cell_type": "code",
   "execution_count": 2,
   "id": "54e867c9",
   "metadata": {},
   "outputs": [],
   "source": [
    "# Load the data from the CSV file\n",
    "data = pd.read_csv('D:\\datasets\\dataset.csv')"
   ]
  },
  {
   "cell_type": "code",
   "execution_count": 13,
   "id": "1a7146a5",
   "metadata": {},
   "outputs": [],
   "source": [
    "# lets drop the rows with empty cells, later we will instead use predicted values\n",
    "data.replace('', np.nan, inplace=True)\n",
    "data.dropna(inplace=True)"
   ]
  },
  {
   "cell_type": "code",
   "execution_count": 14,
   "id": "ba049457",
   "metadata": {},
   "outputs": [],
   "source": [
    "# Load the data and prepare the features and labels\n",
    "#X = data.drop(['Target'], axis=1)\n",
    "X = data[['pH', 'Iron', 'Nitrate', 'Chloride', 'Lead', 'Zinc', 'Color',\n",
    "          'Turbidity', 'Fluoride', 'Copper', 'Odor', 'Sulfate', 'Conductivity',\n",
    "          'Chlorine', 'Manganese', 'Total Dissolved Solids', 'Source',\n",
    "          'Water Temperature', 'Air Temperature', 'Month', 'Day', 'Time of Day']]\n",
    "y = data['Target']"
   ]
  },
  {
   "cell_type": "code",
   "execution_count": 15,
   "id": "81b9b204",
   "metadata": {},
   "outputs": [
    {
     "name": "stdout",
     "output_type": "stream",
     "text": [
      "['Color', 'Source', 'Month']\n"
     ]
    }
   ],
   "source": [
    "# these columns have strings, encode them\n",
    "string_columns = data.select_dtypes(include=['object']).columns.tolist()\n",
    "# Print the names of the string columns\n",
    "print(string_columns)"
   ]
  },
  {
   "cell_type": "code",
   "execution_count": 16,
   "id": "c840feab",
   "metadata": {},
   "outputs": [
    {
     "name": "stderr",
     "output_type": "stream",
     "text": [
      "C:\\Users\\gites\\AppData\\Local\\Temp\\ipykernel_2032\\275804703.py:4: SettingWithCopyWarning: \n",
      "A value is trying to be set on a copy of a slice from a DataFrame.\n",
      "Try using .loc[row_indexer,col_indexer] = value instead\n",
      "\n",
      "See the caveats in the documentation: https://pandas.pydata.org/pandas-docs/stable/user_guide/indexing.html#returning-a-view-versus-a-copy\n",
      "  X.loc[:,string_columns] = X[string_columns].apply(lambda col: le.fit_transform(col))\n"
     ]
    }
   ],
   "source": [
    "#clean the data here\n",
    "le = LabelEncoder()\n",
    "#string_columns = ['Source', 'Month', 'Color']\n",
    "X.loc[:,string_columns] = X[string_columns].apply(lambda col: le.fit_transform(col))"
   ]
  },
  {
   "cell_type": "code",
   "execution_count": null,
   "id": "da0774e0",
   "metadata": {},
   "outputs": [],
   "source": [
    "\n",
    "# Split the data into training and test sets\n",
    "X_train, X_test, y_train, y_test = train_test_split(X, y, test_size=0.2, random_state=42)\n",
    "\n",
    "# Train the decision tree on the training data\n",
    "clf = tree.DecisionTreeClassifier()\n",
    "clf.fit(X_train, y_train)\n",
    "# Make predictions on the test data\n",
    "y_pred = clf.predict(X_test)\n",
    "\n",
    "# Evaluate the performance of the model\n",
    "accuracy = accuracy_score(y_test, y_pred)\n",
    "print('Accuracy:', accuracy)"
   ]
  },
  {
   "cell_type": "code",
   "execution_count": null,
   "id": "1b6cdd6d",
   "metadata": {},
   "outputs": [],
   "source": [
    "\"\"\"\n",
    "document: \n",
    "1. Using DecisionTreeClassifier,\n",
    "     training on 80% data, test on 20%, removed rows with empty cells\n",
    "         accuracy: 83.15%\n",
    "         \n",
    "\"\"\" "
   ]
  }
 ],
 "metadata": {
  "kernelspec": {
   "display_name": "Python 3 (ipykernel)",
   "language": "python",
   "name": "python3"
  },
  "language_info": {
   "codemirror_mode": {
    "name": "ipython",
    "version": 3
   },
   "file_extension": ".py",
   "mimetype": "text/x-python",
   "name": "python",
   "nbconvert_exporter": "python",
   "pygments_lexer": "ipython3",
   "version": "3.9.12"
  }
 },
 "nbformat": 4,
 "nbformat_minor": 5
}
